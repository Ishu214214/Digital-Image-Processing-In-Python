{
 "cells": [
  {
   "cell_type": "code",
   "execution_count": 14,
   "metadata": {
    "executionInfo": {
     "elapsed": 2,
     "status": "ok",
     "timestamp": 1681976621899,
     "user": {
      "displayName": "Ishu Kumar PIET20CS080",
      "userId": "15650045511283517495"
     },
     "user_tz": -330
    },
    "id": "SQ156-GNnklj"
   },
   "outputs": [],
   "source": [
    "#GUI in DIP\n"
   ]
  },
  {
   "cell_type": "code",
   "execution_count": 2,
   "metadata": {
    "colab": {
     "base_uri": "https://localhost:8080/"
    },
    "executionInfo": {
     "elapsed": 416,
     "status": "ok",
     "timestamp": 1681976314784,
     "user": {
      "displayName": "Ishu Kumar PIET20CS080",
      "userId": "15650045511283517495"
     },
     "user_tz": -330
    },
    "id": "jhJc2Tl7lpUn",
    "outputId": "51aeaf2c-2323-46ca-a7d7-1257c365ffc4"
   },
   "outputs": [
    {
     "name": "stdout",
     "output_type": "stream",
     "text": [
      "ishuvalue\n",
      "ishu\n",
      "Sec C\n",
      "Sec \n"
     ]
    }
   ],
   "source": [
    "#@title String Fileds \n",
    "text = \"ishu\"  #@param{type: \"string\"}\n",
    "drop_down = 'Sec C' #@param[\"Sec A\", \"Sec B\", \"Sec C\", 'Sec D','other\"]\n",
    "text_dropdown = 'Sec ' #@param [\"Sec A\", \"Sec B\", \"Sec C\", \"Sec D\"] {allow-input: true}\n",
    "print(text+'value')\n",
    "print(text)\n",
    "print(drop_down)\n",
    "print(text_dropdown)"
   ]
  },
  {
   "cell_type": "code",
   "execution_count": 2,
   "metadata": {
    "executionInfo": {
     "elapsed": 2,
     "status": "ok",
     "timestamp": 1681976354755,
     "user": {
      "displayName": "Ishu Kumar PIET20CS080",
      "userId": "15650045511283517495"
     },
     "user_tz": -330
    },
    "id": "YgQnbnxbmGmj"
   },
   "outputs": [],
   "source": [
    "\n"
   ]
  },
  {
   "cell_type": "code",
   "execution_count": 4,
   "metadata": {
    "colab": {
     "base_uri": "https://localhost:8080/"
    },
    "executionInfo": {
     "elapsed": 4,
     "status": "ok",
     "timestamp": 1681976376686,
     "user": {
      "displayName": "Ishu Kumar PIET20CS080",
      "userId": "15650045511283517495"
     },
     "user_tz": -330
    },
    "id": "bdDKKB6VmmEF",
    "outputId": "4d87603b-1cdf-47d2-8794-f264444acc09"
   },
   "outputs": [
    {
     "name": "stdout",
     "output_type": "stream",
     "text": [
      "amitvalue\n",
      "amit\n",
      "Sec A\n",
      "Sec B\n"
     ]
    }
   ],
   "source": [
    "#@title String Fileds \n",
    "text = \"amit\"  #@param{type: \"string\"}\n",
    "drop_down = 'Sec A' #@param[\"Sec A\", \"Sec B\", \"Sec C\", 'Sec D','other\"]\n",
    "text_dropdown = 'Sec B' #@param [\"Sec A\", \"Sec B\", \"Sec C\", \"Sec D\"] {allow-input: true}\n",
    "print(text+'value')\n",
    "print(text)\n",
    "print(drop_down)\n",
    "print(text_dropdown)"
   ]
  },
  {
   "cell_type": "code",
   "execution_count": 21,
   "metadata": {
    "colab": {
     "base_uri": "https://localhost:8080/"
    },
    "executionInfo": {
     "elapsed": 635,
     "status": "ok",
     "timestamp": 1681976854997,
     "user": {
      "displayName": "Ishu Kumar PIET20CS080",
      "userId": "15650045511283517495"
     },
     "user_tz": -330
    },
    "id": "MmmHm-_3mqJE",
    "outputId": "6146a4c7-a772-4777-c9a2-a8124a3967d1"
   },
   "outputs": [
    {
     "name": "stdout",
     "output_type": "stream",
     "text": [
      "10.8777\n",
      "10.8777\n"
     ]
    }
   ],
   "source": [
    "#@title Raw Fields  {run:\"auto\"} \n",
    "raw_input = \"10.8777\"#@param{type:\"raw\"}\n",
    "raw_dropdown = raw_input #@param[\"ishsaHIG\",\"alka\", 1,\"raw_input\",\"False\"] {type:\"raw\"} \n",
    "print(raw_input)\n",
    "print(raw_dropdown)"
   ]
  },
  {
   "cell_type": "code",
   "execution_count": 8,
   "metadata": {
    "colab": {
     "base_uri": "https://localhost:8080/"
    },
    "executionInfo": {
     "elapsed": 5,
     "status": "ok",
     "timestamp": 1681976468877,
     "user": {
      "displayName": "Ishu Kumar PIET20CS080",
      "userId": "15650045511283517495"
     },
     "user_tz": -330
    },
    "id": "F4l_SQabmvSZ",
    "outputId": "f289ef9e-77d2-486b-e4c7-d68e17894925"
   },
   "outputs": [
    {
     "name": "stdout",
     "output_type": "stream",
     "text": [
      "2021-07-20\n"
     ]
    }
   ],
   "source": [
    "#@title Date Field  {run:\"auto\"} \n",
    "enteryourDOB = '2021-07-20' #@param{type:\"date\"}\n",
    "print(enteryourDOB)"
   ]
  },
  {
   "cell_type": "code",
   "execution_count": 16,
   "metadata": {
    "colab": {
     "base_uri": "https://localhost:8080/"
    },
    "executionInfo": {
     "elapsed": 586,
     "status": "ok",
     "timestamp": 1681976631415,
     "user": {
      "displayName": "Ishu Kumar PIET20CS080",
      "userId": "15650045511283517495"
     },
     "user_tz": -330
    },
    "id": "JzvTz0uinB7Y",
    "outputId": "9a22d6ce-e1d9-4048-d8b3-00228d4c7a79"
   },
   "outputs": [
    {
     "name": "stdout",
     "output_type": "stream",
     "text": [
      "1005435.88\n",
      "0.3\n",
      "-99\n",
      "35\n"
     ]
    }
   ],
   "source": [
    "#@title Number Fields    {run:\"auto\"} \n",
    "number_input = 1005435.88 #@param {type:\"number\"}\n",
    "number_slider = 0.3 #@param {type:\"slider\",min:-1, max:1, step:0.1}\n",
    "\n",
    "integer_input =  -99#@param {type:\"integer\"}\n",
    "integer_slider = 35 #@param {type:\"slider\",min:0, max:100, step:5}\n",
    "res = number_input+integer_input\n",
    "\n",
    "\n",
    "print(number_input)\n",
    "print(number_slider)\n",
    "\n",
    "print(integer_input)\n",
    "print(integer_slider)"
   ]
  },
  {
   "cell_type": "code",
   "execution_count": 18,
   "metadata": {
    "colab": {
     "base_uri": "https://localhost:8080/"
    },
    "executionInfo": {
     "elapsed": 713,
     "status": "ok",
     "timestamp": 1681976659292,
     "user": {
      "displayName": "Ishu Kumar PIET20CS080",
      "userId": "15650045511283517495"
     },
     "user_tz": -330
    },
    "id": "Aa1eDqJGngxK",
    "outputId": "53611dd8-6691-44b3-df9b-83e9b0e3d5b2"
   },
   "outputs": [
    {
     "name": "stdout",
     "output_type": "stream",
     "text": [
      "False\n",
      "False\n"
     ]
    }
   ],
   "source": [
    "#@title Boolean Fields {run:\"auto\"} \n",
    "boolean_checkbox = True #@param {type:\"boolean\"}\n",
    "boolean_dropdowm = \"False\" #@param [\"False\", \"True\",\"Sandeep\"] \n",
    "print(boolean_checkbox)\n",
    "print(boolean_dropdowm)"
   ]
  },
  {
   "cell_type": "code",
   "execution_count": null,
   "metadata": {
    "id": "wHBPVXHMnt7m"
   },
   "outputs": [],
   "source": []
  }
 ],
 "metadata": {
  "colab": {
   "authorship_tag": "ABX9TyMEdqTS8oJUTjGGibD8AhGz",
   "provenance": []
  },
  "kernelspec": {
   "display_name": "Python 3 (ipykernel)",
   "language": "python",
   "name": "python3"
  },
  "language_info": {
   "codemirror_mode": {
    "name": "ipython",
    "version": 3
   },
   "file_extension": ".py",
   "mimetype": "text/x-python",
   "name": "python",
   "nbconvert_exporter": "python",
   "pygments_lexer": "ipython3",
   "version": "3.9.12"
  }
 },
 "nbformat": 4,
 "nbformat_minor": 1
}
